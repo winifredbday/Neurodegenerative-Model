{
  "cells": [
    {
      "cell_type": "code",
      "execution_count": null,
      "metadata": {
        "colab": {
          "base_uri": "https://localhost:8080/"
        },
        "id": "IzV--oXBzTZy",
        "outputId": "c73b418c-844d-474d-addb-1ce639581f0f"
      },
      "outputs": [
        {
          "name": "stdout",
          "output_type": "stream",
          "text": [
            "Model Accuracy: 0.00%\n",
            "Predicted Disease: Alzheimer’s\n"
          ]
        }
      ],
      "source": [
        "import pandas as pd\n",
        "from sklearn.model_selection import train_test_split\n",
        "from sklearn.linear_model import LogisticRegression\n",
        "from sklearn.metrics import accuracy_score\n",
        "\n",
        "# Expanded synthetic data with more symptoms\n",
        "data = {\n",
        "    'memory_loss': [1, 0, 0, 0, 1, 0, 0, 0],\n",
        "    'confusion': [1, 0, 0, 0, 1, 0, 0, 0],\n",
        "    'difficulty_recognizing_people': [1, 0, 0, 0, 1, 0, 0, 0],\n",
        "    'poor_judgment': [1, 0, 0, 0, 1, 0, 0, 0],\n",
        "    'tremors': [0, 1, 0, 0, 0, 1, 0, 0],\n",
        "    'slowness': [0, 1, 0, 0, 0, 1, 0, 0],\n",
        "    'stooped_posture': [0, 1, 0, 0, 0, 1, 0, 0],\n",
        "    'small_handwriting': [0, 1, 0, 0, 0, 1, 0, 0],\n",
        "    'drooling': [0, 1, 0, 0, 0, 1, 0, 0],\n",
        "    'muscle_weakness': [0, 0, 1, 0, 0, 0, 1, 0],\n",
        "    'chorea': [0, 0, 0, 1, 0, 0, 0, 1],\n",
        "    'mood_swings': [0, 0, 0, 1, 0, 0, 0, 1],\n",
        "    'speech_difficulty': [0, 1, 1, 1, 0, 1, 1, 1],\n",
        "    'difficulty_swallowing': [0, 0, 1, 1, 0, 0, 1, 1],\n",
        "    'muscle_cramps': [0, 0, 1, 0, 0, 0, 1, 0],\n",
        "    'impaired_balance': [0, 1, 0, 0, 0, 1, 0, 0],\n",
        "    'cognitive_decline': [1, 0, 0, 1, 1, 0, 0, 1],\n",
        "    'personality_changes': [1, 0, 0, 1, 1, 0, 0, 1],\n",
        "    'seizures': [0, 0, 0, 1, 0, 0, 0, 1],\n",
        "    'difficulty_holding_objects': [0, 0, 1, 0, 0, 0, 1, 0],\n",
        "    'head_drop': [0, 0, 1, 0, 0, 0, 1, 0],\n",
        "    'emotional_lability': [0, 0, 1, 0, 0, 0, 1, 0],\n",
        "    'disease': ['Alzheimer’s', 'Parkinson’s', 'ALS', 'Huntington’s',\n",
        "                'Alzheimer’s', 'Parkinson’s', 'ALS', 'Huntington’s']\n",
        "}\n",
        "\n",
        "# Convert to DataFrame\n",
        "df = pd.DataFrame(data)\n",
        "\n",
        "# Features (symptoms)\n",
        "X = df.drop(columns=['disease'])\n",
        "\n",
        "# Target (disease)\n",
        "y = df['disease']\n",
        "\n",
        "# Split the data into train and test sets\n",
        "X_train, X_test, y_train, y_test = train_test_split(X, y, test_size=0.2, random_state=42)\n",
        "\n",
        "# Build a simple Logistic Regression model\n",
        "model = LogisticRegression()\n",
        "model.fit(X_train, y_train)\n",
        "\n",
        "# Predict on the test set\n",
        "y_pred = model.predict(X_test)\n",
        "\n",
        "# Evaluate the model's accuracy\n",
        "accuracy = accuracy_score(y_test, y_pred)\n",
        "print(f'Model Accuracy: {accuracy * 100:.2f}%')\n",
        "\n",
        "# Function to make predictions based on symptoms\n",
        "def predict_disease(symptoms):\n",
        "    symptom_dict = {col: 0 for col in X.columns}\n",
        "    for symptom in symptoms:\n",
        "        if symptom in symptom_dict:\n",
        "            symptom_dict[symptom] = 1\n",
        "    input_data = pd.DataFrame([symptom_dict])\n",
        "    prediction = model.predict(input_data)\n",
        "    return prediction[0]\n",
        "\n",
        "# Example input\n",
        "user_symptoms = ['memory_loss', 'cognitive_decline', 'poor_judgment', 'confusion']\n",
        "predicted_disease = predict_disease(user_symptoms)\n",
        "print(f'Predicted Disease: {predicted_disease}')\n"
      ]
    },
    {
      "cell_type": "code",
      "execution_count": null,
      "metadata": {
        "id": "Tfa7Jd8pzYsZ"
      },
      "outputs": [],
      "source": [
        "user_symptoms = ['memory_loss', 'confusion', 'poor_judgment', 'cognitive_decline']\n"
      ]
    },
    {
      "cell_type": "code",
      "execution_count": null,
      "metadata": {
        "colab": {
          "base_uri": "https://localhost:8080/"
        },
        "id": "RIg7d9vp5-ld",
        "outputId": "994025c4-6496-48c5-fdf7-32865c48c7ea"
      },
      "outputs": [
        {
          "name": "stdout",
          "output_type": "stream",
          "text": [
            "Model Accuracy: 100.00%\n",
            "Predicted Disease: Alzheimer’s\n"
          ]
        }
      ],
      "source": [
        "import pandas as pd\n",
        "import random\n",
        "from sklearn.model_selection import train_test_split\n",
        "from sklearn.linear_model import LogisticRegression\n",
        "from sklearn.metrics import accuracy_score\n",
        "\n",
        "# Define symptoms for each disease (1 means the symptom is present, 0 means absent)\n",
        "diseases = ['Alzheimer’s', 'Parkinson’s', 'ALS', 'Huntington’s']\n",
        "\n",
        "# Define the symptoms for each disease profile\n",
        "symptoms_profile = {\n",
        "    'Alzheimer’s': ['memory_loss', 'confusion', 'difficulty_recognizing_people', 'poor_judgment', 'cognitive_decline'],\n",
        "    'Parkinson’s': ['tremors', 'slowness', 'stooped_posture', 'small_handwriting', 'drooling'],\n",
        "    'ALS': ['muscle_weakness', 'speech_difficulty', 'difficulty_swallowing', 'muscle_cramps', 'difficulty_holding_objects'],\n",
        "    'Huntington’s': ['chorea', 'mood_swings', 'seizures', 'cognitive_decline', 'personality_changes']\n",
        "}\n",
        "\n",
        "# Create a function to generate synthetic patients\n",
        "def generate_synthetic_data(num_patients=50):\n",
        "    data = []\n",
        "    for _ in range(num_patients):\n",
        "        # Randomly select a disease\n",
        "        disease = random.choice(diseases)\n",
        "        # Generate symptom data based on disease profile\n",
        "        patient_data = {symptom: 1 if symptom in symptoms_profile[disease] else 0 for symptom in set(sum(symptoms_profile.values(), []))}\n",
        "        # Append the disease label\n",
        "        patient_data['disease'] = disease\n",
        "        data.append(patient_data)\n",
        "    return data\n",
        "\n",
        "# Generate synthetic data for 50 patients\n",
        "synthetic_data = generate_synthetic_data(num_patients=50)\n",
        "\n",
        "# Convert to DataFrame\n",
        "df = pd.DataFrame(synthetic_data)\n",
        "\n",
        "# Features (symptoms)\n",
        "X = df.drop(columns=['disease'])\n",
        "\n",
        "# Target (disease)\n",
        "y = df['disease']\n",
        "\n",
        "# Split the data into train and test sets\n",
        "X_train, X_test, y_train, y_test = train_test_split(X, y, test_size=0.2, random_state=42)\n",
        "\n",
        "# Build a simple Logistic Regression model\n",
        "model = LogisticRegression(max_iter=1000)\n",
        "model.fit(X_train, y_train)\n",
        "\n",
        "# Predict on the test set\n",
        "y_pred = model.predict(X_test)\n",
        "\n",
        "# Evaluate the model's accuracy\n",
        "accuracy = accuracy_score(y_test, y_pred)\n",
        "print(f'Model Accuracy: {accuracy * 100:.2f}%')\n",
        "\n",
        "# Function to make predictions based on symptoms\n",
        "def predict_disease(symptoms):\n",
        "    symptom_dict = {col: 0 for col in X.columns}\n",
        "    for symptom in symptoms:\n",
        "        if symptom in symptom_dict:\n",
        "            symptom_dict[symptom] = 1\n",
        "    input_data = pd.DataFrame([symptom_dict])\n",
        "    prediction = model.predict(input_data)\n",
        "    return prediction[0]\n",
        "\n",
        "# Example input\n",
        "user_symptoms = ['memory_loss', 'cognitive_decline', 'poor_judgment', 'confusion']\n",
        "predicted_disease = predict_disease(user_symptoms)\n",
        "print(f'Predicted Disease: {predicted_disease}')\n"
      ]
    },
    {
      "cell_type": "code",
      "execution_count": null,
      "metadata": {
        "colab": {
          "base_uri": "https://localhost:8080/"
        },
        "id": "xsRaASzS6FeD",
        "outputId": "ec96c059-929a-42a2-fbd1-b374da4e8742"
      },
      "outputs": [
        {
          "name": "stdout",
          "output_type": "stream",
          "text": [
            "Predicted Disease: Parkinson’s\n"
          ]
        }
      ],
      "source": [
        "user_symptoms = ['tremors', 'slowness', 'drooling']\n",
        "predicted_disease = predict_disease(user_symptoms)\n",
        "print(f'Predicted Disease: {predicted_disease}')\n"
      ]
    },
    {
      "cell_type": "code",
      "execution_count": null,
      "metadata": {
        "colab": {
          "base_uri": "https://localhost:8080/"
        },
        "id": "N7dPSr-s7Yng",
        "outputId": "9d98811c-ec8d-4200-d9b0-6d1b3f79ae84"
      },
      "outputs": [
        {
          "name": "stdout",
          "output_type": "stream",
          "text": [
            "Expanded Model Accuracy: 100.00%\n",
            "Predicted Disease with Expanded Dataset: Parkinson’s\n"
          ]
        }
      ],
      "source": [
        "import pandas as pd\n",
        "import random\n",
        "\n",
        "# Define diseases and their symptoms\n",
        "diseases = ['Alzheimer’s', 'Parkinson’s', 'ALS', 'Huntington’s']\n",
        "\n",
        "# Define the symptoms for each disease profile\n",
        "symptoms_profile = {\n",
        "    'Alzheimer’s': ['memory_loss', 'confusion', 'difficulty_recognizing_people', 'poor_judgment', 'cognitive_decline'],\n",
        "    'Parkinson’s': ['tremors', 'slowness', 'stooped_posture', 'small_handwriting', 'drooling'],\n",
        "    'ALS': ['muscle_weakness', 'speech_difficulty', 'difficulty_swallowing', 'muscle_cramps', 'difficulty_holding_objects'],\n",
        "    'Huntington’s': ['chorea', 'mood_swings', 'seizures', 'cognitive_decline', 'personality_changes']\n",
        "}\n",
        "\n",
        "# Expand the dataset to 200 patients\n",
        "def generate_synthetic_data(num_patients=200):\n",
        "    data = []\n",
        "    for _ in range(num_patients):\n",
        "        # Randomly select a disease\n",
        "        disease = random.choice(diseases)\n",
        "        # Generate random symptoms: 70% chance of the symptom being present if it's in the profile\n",
        "        patient_data = {symptom: 1 if (symptom in symptoms_profile[disease] and random.random() < 0.7) else 0\n",
        "                        for symptom in set(sum(symptoms_profile.values(), []))}\n",
        "        # Append the disease label\n",
        "        patient_data['disease'] = disease\n",
        "        data.append(patient_data)\n",
        "    return data\n",
        "\n",
        "# Generate synthetic data for 200 patients\n",
        "expanded_synthetic_data = generate_synthetic_data(num_patients=200)\n",
        "\n",
        "# Convert to DataFrame\n",
        "df_expanded = pd.DataFrame(expanded_synthetic_data)\n",
        "\n",
        "# Features (symptoms)\n",
        "X_expanded = df_expanded.drop(columns=['disease'])\n",
        "\n",
        "# Target (disease)\n",
        "y_expanded = df_expanded['disease']\n",
        "\n",
        "# Split the data into train and test sets\n",
        "from sklearn.model_selection import train_test_split\n",
        "X_train_expanded, X_test_expanded, y_train_expanded, y_test_expanded = train_test_split(X_expanded, y_expanded, test_size=0.2, random_state=42)\n",
        "\n",
        "# Train the model on the expanded dataset\n",
        "from sklearn.linear_model import LogisticRegression\n",
        "model_expanded = LogisticRegression(max_iter=1000)\n",
        "model_expanded.fit(X_train_expanded, y_train_expanded)\n",
        "\n",
        "# Predict on the test set\n",
        "y_pred_expanded = model_expanded.predict(X_test_expanded)\n",
        "\n",
        "# Evaluate the model's accuracy\n",
        "from sklearn.metrics import accuracy_score\n",
        "accuracy_expanded = accuracy_score(y_test_expanded, y_pred_expanded)\n",
        "print(f'Expanded Model Accuracy: {accuracy_expanded * 100:.2f}%')\n",
        "\n",
        "# Function to make predictions based on symptoms in expanded dataset\n",
        "def predict_disease_expanded(symptoms):\n",
        "    symptom_dict = {col: 0 for col in X_expanded.columns}\n",
        "    for symptom in symptoms:\n",
        "        if symptom in symptom_dict:\n",
        "            symptom_dict[symptom] = 1\n",
        "    input_data = pd.DataFrame([symptom_dict])\n",
        "    prediction = model_expanded.predict(input_data)\n",
        "    return prediction[0]\n",
        "\n",
        "# Example input to test expanded model\n",
        "user_symptoms_expanded = ['tremors', 'slowness', 'drooling']\n",
        "predicted_disease_expanded = predict_disease_expanded(user_symptoms_expanded)\n",
        "print(f'Predicted Disease with Expanded Dataset: {predicted_disease_expanded}')\n"
      ]
    },
    {
      "cell_type": "code",
      "execution_count": null,
      "metadata": {
        "colab": {
          "base_uri": "https://localhost:8080/"
        },
        "id": "1vadC97K8DAc",
        "outputId": "8bdd5a8b-326a-4126-ce0d-dd815beb550a"
      },
      "outputs": [
        {
          "name": "stdout",
          "output_type": "stream",
          "text": [
            "Cross-Validation Scores: [1.    1.    1.    0.975 1.   ]\n",
            "Mean Cross-Validation Accuracy: 99.50%\n"
          ]
        }
      ],
      "source": [
        "from sklearn.model_selection import cross_val_score\n",
        "from sklearn.linear_model import LogisticRegression\n",
        "\n",
        "# Initialize the Logistic Regression model\n",
        "logreg_model = LogisticRegression(max_iter=1000)\n",
        "\n",
        "# Perform 5-fold cross-validation\n",
        "cv_scores = cross_val_score(logreg_model, X_expanded, y_expanded, cv=5)\n",
        "\n",
        "# Print cross-validation scores and the mean score\n",
        "print(f'Cross-Validation Scores: {cv_scores}')\n",
        "print(f'Mean Cross-Validation Accuracy: {cv_scores.mean() * 100:.2f}%')\n"
      ]
    },
    {
      "cell_type": "code",
      "execution_count": null,
      "metadata": {
        "colab": {
          "base_uri": "https://localhost:8080/"
        },
        "id": "ILO3CW7G8N_1",
        "outputId": "72a9b21a-7467-49eb-8dfb-f50e02a30387"
      },
      "outputs": [
        {
          "name": "stdout",
          "output_type": "stream",
          "text": [
            "Random Forest Cross-Validation Scores: [1.    1.    1.    0.975 1.   ]\n",
            "Mean Random Forest Accuracy: 99.50%\n"
          ]
        }
      ],
      "source": [
        "from sklearn.ensemble import RandomForestClassifier\n",
        "from sklearn.model_selection import cross_val_score\n",
        "\n",
        "# Initialize the Random Forest model\n",
        "rf_model = RandomForestClassifier(n_estimators=100, random_state=42)\n",
        "\n",
        "# Perform 5-fold cross-validation for Random Forest\n",
        "rf_cv_scores = cross_val_score(rf_model, X_expanded, y_expanded, cv=5)\n",
        "\n",
        "# Print cross-validation scores and the mean score\n",
        "print(f'Random Forest Cross-Validation Scores: {rf_cv_scores}')\n",
        "print(f'Mean Random Forest Accuracy: {rf_cv_scores.mean() * 100:.2f}%')\n"
      ]
    },
    {
      "cell_type": "code",
      "execution_count": null,
      "metadata": {
        "colab": {
          "base_uri": "https://localhost:8080/"
        },
        "id": "TPTI7wLW8TPP",
        "outputId": "28524d0b-f5c7-4f5b-c197-6177ed1f7b9a"
      },
      "outputs": [
        {
          "name": "stdout",
          "output_type": "stream",
          "text": [
            "SVM Cross-Validation Scores: [1.    1.    1.    0.975 1.   ]\n",
            "Mean SVM Accuracy: 99.50%\n"
          ]
        }
      ],
      "source": [
        "from sklearn.svm import SVC\n",
        "\n",
        "# Initialize the SVM model\n",
        "svm_model = SVC()\n",
        "\n",
        "# Perform 5-fold cross-validation for SVM\n",
        "svm_cv_scores = cross_val_score(svm_model, X_expanded, y_expanded, cv=5)\n",
        "\n",
        "# Print cross-validation scores and the mean score\n",
        "print(f'SVM Cross-Validation Scores: {svm_cv_scores}')\n",
        "print(f'Mean SVM Accuracy: {svm_cv_scores.mean() * 100:.2f}%')\n"
      ]
    },
    {
      "cell_type": "code",
      "execution_count": null,
      "metadata": {
        "colab": {
          "base_uri": "https://localhost:8080/"
        },
        "id": "yxQc8AC7-vQF",
        "outputId": "2427bce4-d5c0-4b2f-c9b1-4a00b48a3371"
      },
      "outputs": [
        {
          "data": {
            "text/plain": [
              "['disease_prediction_model.pkl']"
            ]
          },
          "execution_count": 10,
          "metadata": {},
          "output_type": "execute_result"
        }
      ],
      "source": [
        "import joblib\n",
        "\n",
        "# Save the trained model to a file\n",
        "joblib.dump(model, 'disease_prediction_model.pkl')\n",
        "\n",
        "# To load the model later:\n",
        "# loaded_model = joblib.load('disease_prediction_model.pkl')\n"
      ]
    },
    {
      "cell_type": "code",
      "execution_count": null,
      "metadata": {
        "colab": {
          "base_uri": "https://localhost:8080/"
        },
        "id": "7b-7P0pP-zHK",
        "outputId": "adcdd96f-45bb-4842-cf20-63aa80fb8ce7"
      },
      "outputs": [
        {
          "name": "stdout",
          "output_type": "stream",
          "text": [
            "Requirement already satisfied: flask in /usr/local/lib/python3.10/dist-packages (2.2.5)\n",
            "Requirement already satisfied: joblib in /usr/local/lib/python3.10/dist-packages (1.4.2)\n",
            "Requirement already satisfied: Werkzeug>=2.2.2 in /usr/local/lib/python3.10/dist-packages (from flask) (3.0.4)\n",
            "Requirement already satisfied: Jinja2>=3.0 in /usr/local/lib/python3.10/dist-packages (from flask) (3.1.4)\n",
            "Requirement already satisfied: itsdangerous>=2.0 in /usr/local/lib/python3.10/dist-packages (from flask) (2.2.0)\n",
            "Requirement already satisfied: click>=8.0 in /usr/local/lib/python3.10/dist-packages (from flask) (8.1.7)\n",
            "Requirement already satisfied: MarkupSafe>=2.0 in /usr/local/lib/python3.10/dist-packages (from Jinja2>=3.0->flask) (2.1.5)\n"
          ]
        }
      ],
      "source": [
        "pip install flask joblib\n"
      ]
    },
    {
      "cell_type": "code",
      "execution_count": null,
      "metadata": {
        "colab": {
          "background_save": true,
          "base_uri": "https://localhost:8080/"
        },
        "id": "ufmUey1o-7sn",
        "outputId": "44b23f4e-df41-45b7-ecaa-dca5a44ccbac"
      },
      "outputs": [
        {
          "name": "stdout",
          "output_type": "stream",
          "text": [
            " * Serving Flask app '__main__'\n",
            " * Debug mode: on\n"
          ]
        },
        {
          "name": "stderr",
          "output_type": "stream",
          "text": [
            "INFO:werkzeug:\u001b[31m\u001b[1mWARNING: This is a development server. Do not use it in a production deployment. Use a production WSGI server instead.\u001b[0m\n",
            " * Running on http://127.0.0.1:5000\n",
            "INFO:werkzeug:\u001b[33mPress CTRL+C to quit\u001b[0m\n",
            "INFO:werkzeug: * Restarting with stat\n"
          ]
        }
      ],
      "source": [
        "from flask import Flask, request, jsonify\n",
        "import joblib\n",
        "\n",
        "# Load the saved model\n",
        "model = joblib.load('disease_prediction_model.pkl')\n",
        "\n",
        "app = Flask(__name__)\n",
        "\n",
        "@app.route('/predict', methods=['POST'])\n",
        "def predict():\n",
        "    symptoms = request.json['symptoms']\n",
        "    prediction = predict_disease(symptoms)\n",
        "    return jsonify({'predicted_disease': prediction})\n",
        "\n",
        "def predict_disease(symptoms):\n",
        "    # Use your model to predict the disease based on symptoms\n",
        "    symptom_dict = {col: 0 for col in X.columns}\n",
        "    for symptom in symptoms:\n",
        "        if symptom in symptom_dict:\n",
        "            symptom_dict[symptom] = 1\n",
        "    input_data = pd.DataFrame([symptom_dict])\n",
        "    prediction = model.predict(input_data)\n",
        "    return prediction[0]\n",
        "\n",
        "if __name__ == '__main__':\n",
        "    app.run(debug=True)\n"
      ]
    },
    {
      "cell_type": "code",
      "execution_count": null,
      "metadata": {
        "id": "05Wrt8bRHfdr"
      },
      "outputs": [],
      "source": [
        "{\n",
        "  \"symptoms\": [\"memory_loss\", \"cognitive_decline\", \"poor_judgment\", \"confusion\"]\n",
        "}\n"
      ]
    }
  ],
  "metadata": {
    "colab": {
      "provenance": []
    },
    "kernelspec": {
      "display_name": "Python 3",
      "name": "python3"
    },
    "language_info": {
      "name": "python"
    }
  },
  "nbformat": 4,
  "nbformat_minor": 0
}